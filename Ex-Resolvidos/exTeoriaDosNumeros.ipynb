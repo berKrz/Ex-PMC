{
 "cells": [
  {
   "cell_type": "markdown",
   "metadata": {},
   "source": [
    "# Teoria dos Números"
   ]
  },
  {
   "cell_type": "markdown",
   "metadata": {},
   "source": [
    "## 1 - MDC"
   ]
  },
  {
   "cell_type": "code",
   "execution_count": 1,
   "metadata": {},
   "outputs": [],
   "source": [
    "def mdc(n1, n2):\n",
    "    if n1 == n2:\n",
    "        return 'n1 deve ser diferente de n2!'\n",
    "\n",
    "    maior = max(n1,n2)\n",
    "    menor = min(n1,n2)\n",
    "    \n",
    "    while menor != 0:\n",
    "        maior, menor = menor, maior%menor\n",
    "\n",
    "    return maior\n",
    "\n",
    "def mdc_recursivo(maior, menor):\n",
    "    if maior == menor:\n",
    "        return 'Os números devem ser diferentes!'\n",
    "\n",
    "    if menor == 0:\n",
    "        return 1\n",
    "\n",
    "    return mdc(menor, maior%menor)\n",
    "\n",
    "from functools import reduce\n",
    "\n",
    "def mdc_args(*args):\n",
    "    if len(args) <= 1:\n",
    "        return 'Deve haver mais de 1 número como argumento!'\n",
    "\n",
    "    return reduce(mdc, args)\n"
   ]
  },
  {
   "cell_type": "markdown",
   "metadata": {},
   "source": [
    "Resultados"
   ]
  },
  {
   "cell_type": "code",
   "execution_count": 2,
   "metadata": {},
   "outputs": [
    {
     "name": "stdout",
     "output_type": "stream",
     "text": [
      "10\n",
      "10\n",
      "15\n",
      "4\n"
     ]
    }
   ],
   "source": [
    "print(mdc(50,20))\n",
    "print(mdc_recursivo(50,20))\n",
    "print(mdc_args(30,60,75))\n",
    "\n",
    "import math\n",
    "print(math.gcd(16,100,24))"
   ]
  },
  {
   "cell_type": "markdown",
   "metadata": {},
   "source": [
    "## 2 - MMC"
   ]
  },
  {
   "cell_type": "code",
   "execution_count": 3,
   "metadata": {},
   "outputs": [],
   "source": [
    "def mmc_simples(n1, n2):\n",
    "    if n1 == n2:\n",
    "        return 'n1 deve ser diferente de n2!'\n",
    "\n",
    "    maior = max(n1,n2)\n",
    "    menor = min(n1,n2)\n",
    "    \n",
    "    for i in range(maior, menor*maior +1):\n",
    "        if i % menor == 0 and i % maior == 0:\n",
    "            return i\n",
    "\n",
    "def mmc(n1, n2):\n",
    "    return n1 * n2 // mdc(n1,n2)\n",
    "\n",
    "from functools import reduce\n",
    "def mmc_args(*args):\n",
    "    if len(args) <= 1:\n",
    "        return 'Deve haver mais de 1 número como argumento!'\n",
    "\n",
    "    return reduce(mmc, args)"
   ]
  },
  {
   "cell_type": "markdown",
   "metadata": {},
   "source": [
    "Resultados"
   ]
  },
  {
   "cell_type": "code",
   "execution_count": 4,
   "metadata": {},
   "outputs": [
    {
     "name": "stdout",
     "output_type": "stream",
     "text": [
      "100\n",
      "100\n",
      "300\n",
      "1200\n"
     ]
    }
   ],
   "source": [
    "print(mmc_simples(50,20))\n",
    "print(mmc(50,20))\n",
    "print(mmc_args(30,60,75))\n",
    "\n",
    "import math\n",
    "print(math.lcm(16,100,24))"
   ]
  },
  {
   "cell_type": "markdown",
   "metadata": {},
   "source": [
    "## 3 - Números primos"
   ]
  },
  {
   "cell_type": "code",
   "execution_count": 5,
   "metadata": {},
   "outputs": [],
   "source": [
    "def check_primo(n):\n",
    "    if n <= 1:\n",
    "        # print(f'{n} não é primo')\n",
    "        return False\n",
    "\n",
    "    for i in range(2, n//2 + 1):\n",
    "        if n % i == 0:\n",
    "            # print(f'{n} não é primo')\n",
    "            return False\n",
    "\n",
    "    # print(f'{n} é primo')\n",
    "    return True"
   ]
  },
  {
   "cell_type": "markdown",
   "metadata": {},
   "source": [
    "Resultados"
   ]
  },
  {
   "cell_type": "code",
   "execution_count": 6,
   "metadata": {},
   "outputs": [
    {
     "name": "stdout",
     "output_type": "stream",
     "text": [
      "False\n",
      "True\n"
     ]
    }
   ],
   "source": [
    "print(check_primo(6))\n",
    "print(check_primo(11))"
   ]
  },
  {
   "cell_type": "markdown",
   "metadata": {},
   "source": [
    "## 3 - Números perfeitos"
   ]
  },
  {
   "cell_type": "code",
   "execution_count": 7,
   "metadata": {},
   "outputs": [],
   "source": [
    "def check_perfeito(n):\n",
    "    s = 0\n",
    "\n",
    "    for i in range(1, n):\n",
    "        if n % i == 0:\n",
    "            s += i\n",
    "\n",
    "    return s == i+1"
   ]
  },
  {
   "cell_type": "markdown",
   "metadata": {},
   "source": [
    "Resultados"
   ]
  },
  {
   "cell_type": "code",
   "execution_count": 8,
   "metadata": {},
   "outputs": [
    {
     "name": "stdout",
     "output_type": "stream",
     "text": [
      "True\n",
      "False\n"
     ]
    }
   ],
   "source": [
    "print(check_perfeito(6))\n",
    "print(check_perfeito(11))"
   ]
  },
  {
   "cell_type": "markdown",
   "metadata": {},
   "source": [
    "## 3 - Cifras"
   ]
  },
  {
   "cell_type": "code",
   "execution_count": 9,
   "metadata": {},
   "outputs": [],
   "source": [
    "def cifrador_de_cesar_simples(texto, chave = 3):\n",
    "    alfabeto = ' abcdefghijklmnopqrstuvwxyz'\n",
    "    texto = texto.lower()\n",
    "    r = ''\n",
    "\n",
    "    if 1 < chave < 26:\n",
    "        for char in texto:\n",
    "            i = alfabeto.index(char) + chave\n",
    "            r += alfabeto[i]\n",
    "\n",
    "        return (r, chave)\n",
    "\n",
    "    else:\n",
    "        print('Chave deve ser um número entre 1 e 26!')\n",
    "        return False\n",
    "\n",
    "def decifrador_de_cesar_simples(texto, chave = 3):\n",
    "    alfabeto = ' abcdefghijklmnopqrstuvwxyz'\n",
    "    texto = texto.lower()\n",
    "    r = ''\n",
    "\n",
    "    if 1 < chave < 26:\n",
    "        for char in texto:\n",
    "            i = alfabeto.index(char) - chave\n",
    "            r += alfabeto[i]\n",
    "\n",
    "        return (r, chave)\n",
    "\n",
    "    else:\n",
    "        print('Chave deve ser um número entre 1 e 26!')\n",
    "        return False\n",
    "\n",
    "def cifrador_de_cesar(texto, chave = 3):\n",
    "    r = ''\n",
    "\n",
    "    if 1 < chave < 26:\n",
    "        for char in texto:\n",
    "            i = ord(char) + chave\n",
    "            r += chr(i)\n",
    "\n",
    "        return (r, chave)\n",
    "\n",
    "    else:\n",
    "        print('Chave deve ser um número entre 1 e 26!')\n",
    "        return False\n",
    "\n",
    "def decifrador_de_cesar(texto, chave = 3):\n",
    "    r = ''\n",
    "\n",
    "    if 1 < chave < 26:\n",
    "        for char in texto:\n",
    "            i = ord(char) - chave\n",
    "            r += chr(i)\n",
    "\n",
    "        return (r, chave)\n",
    "\n",
    "    else:\n",
    "        print('Chave deve ser um número entre 1 e 26!')\n",
    "        return False"
   ]
  },
  {
   "cell_type": "markdown",
   "metadata": {},
   "source": [
    "Resultados"
   ]
  },
  {
   "cell_type": "code",
   "execution_count": 10,
   "metadata": {},
   "outputs": [
    {
     "name": "stdout",
     "output_type": "stream",
     "text": [
      "('rodcpxqgr', 3)\n",
      "('ola mundo', 3)\n",
      "('Rod#pxqgr', 3)\n",
      "('Ola mundo', 3)\n"
     ]
    }
   ],
   "source": [
    "print(cifrador_de_cesar_simples('Ola mundo'))\n",
    "print(decifrador_de_cesar_simples('rodcpxqgr'))\n",
    "\n",
    "print(cifrador_de_cesar('Ola mundo'))\n",
    "print(decifrador_de_cesar('Rod#pxqgr'))"
   ]
  },
  {
   "cell_type": "markdown",
   "metadata": {},
   "source": [
    "## 4 - Problemas"
   ]
  },
  {
   "cell_type": "markdown",
   "metadata": {},
   "source": [
    "### **Project Euler Problema 5**\n",
    "O número 2520 é o menor número divisível por todos os números entre 1 e 10.\n",
    "\n",
    "Qual o menor número que pode ser dividido, sem deixar resto, por todos os números entre 1 e 20\n",
    "<br>\n",
    "<br>\n",
    "\n",
    "**BÔNUS:** faça com que o usuário possa escolher o limite superior desse intervalo."
   ]
  },
  {
   "cell_type": "code",
   "execution_count": 11,
   "metadata": {},
   "outputs": [],
   "source": [
    "def fatores_primos(n):\n",
    "    primos = [x for x in range(2, n+1) if check_primo(x)]\n",
    "    r = {primo: 0 for primo in primos}\n",
    "    i = 0\n",
    "\n",
    "    for primo in primos:\n",
    "        while n % primo == 0:\n",
    "            r[primo] += 1\n",
    "            n /= primo\n",
    "\n",
    "    return r\n",
    "\n",
    "def problem5(limite = 20):\n",
    "    primos = [x for x in range(2, limite+1) if check_primo(x)]\n",
    "    fatores = {primo: 1 for primo in primos}\n",
    "\n",
    "    for i in range(2, limite+1):\n",
    "        for primo, cont in fatores_primos(i).items():\n",
    "            fatores[primo] = max(cont, fatores[primo])\n",
    "\n",
    "    r = 1\n",
    "\n",
    "    for primo, cont in fatores.items():\n",
    "        r *= primo ** cont\n",
    "\n",
    "    return r"
   ]
  },
  {
   "cell_type": "markdown",
   "metadata": {},
   "source": [
    "Resultados"
   ]
  },
  {
   "cell_type": "code",
   "execution_count": 12,
   "metadata": {},
   "outputs": [
    {
     "name": "stdout",
     "output_type": "stream",
     "text": [
      "232792560\n",
      "232792560\n"
     ]
    }
   ],
   "source": [
    "print(problem5())\n",
    "print(mmc_args(*range(1,21)))"
   ]
  },
  {
   "cell_type": "markdown",
   "metadata": {},
   "source": [
    "### **Project Euler Problema 10**\n",
    "Elabore um algoritmo que calcule a soma de todos os números primos menores que 2M.\n",
    "<br>\n",
    "<br>\n",
    "\n",
    "**BÔNUS:** faça com que o usuário possa escolher o limite superior desse intervalo.\n",
    "\n",
    "**BÔNUS:** faça com que o seu algoritmo implemente o Crivo de Eratóstenes."
   ]
  },
  {
   "cell_type": "code",
   "execution_count": 13,
   "metadata": {},
   "outputs": [],
   "source": [
    "def problem10(limite = 2000000):\n",
    "    s = 0\n",
    "    crivo = [True] * limite\n",
    "\n",
    "    for i in range(2,limite):\n",
    "        if crivo[i]:\n",
    "            s += i\n",
    "\n",
    "            for j in range(i**2, limite, i):\n",
    "                crivo[j] = False\n",
    "\n",
    "    return s"
   ]
  },
  {
   "cell_type": "markdown",
   "metadata": {},
   "source": [
    "Resultados"
   ]
  },
  {
   "cell_type": "code",
   "execution_count": 14,
   "metadata": {},
   "outputs": [
    {
     "data": {
      "text/plain": [
       "142913828922"
      ]
     },
     "execution_count": 14,
     "metadata": {},
     "output_type": "execute_result"
    }
   ],
   "source": [
    "problem10()"
   ]
  },
  {
   "cell_type": "markdown",
   "metadata": {},
   "source": [
    "### **Project Euler Problema 35**\n",
    "O número 197 pode ser considerado um \"número primo circular\", pois todas as rotações de seus dígitos são primos:\n",
    "\n",
    "> 197, 971 e 719 \n",
    "\n",
    "Exempo de números primos circulares abaixo de 100:\n",
    "\n",
    "> 2, 3, 5, 7, 11, 13, 17, 31, 37, 71, 73, 79 e 97\n",
    "<br>\n",
    "\n",
    "Quantos números primos circulares menores que 1M existem?"
   ]
  },
  {
   "cell_type": "code",
   "execution_count": 15,
   "metadata": {},
   "outputs": [],
   "source": [
    "def crivo(limite):\n",
    "    crivo = [True] * limite\n",
    "    primos = []\n",
    "\n",
    "    for i in range(2,limite):\n",
    "        if crivo[i]:\n",
    "            primos.append(i)\n",
    "\n",
    "            for j in range(i**2, limite, i):\n",
    "                crivo[j] = False\n",
    "\n",
    "    return primos\n",
    "\n",
    "def rotacoes(n):\n",
    "    digitos = str(n)\n",
    "\n",
    "    yield n\n",
    "    for i in range(1,len(digitos)):\n",
    "        yield int(digitos[i:] + digitos[:i])\n",
    "\n",
    "def problem35(limite=1000000):\n",
    "    r = set()\n",
    "    primos = crivo(limite)\n",
    "    for primo in primos:\n",
    "        if set(str(primo)) & {\"0\", \"2\", \"4\", \"5\", \"6\", \"8\"} and primo > 5:\n",
    "            continue\n",
    "        \n",
    "        for rotacao in rotacoes(primo):\n",
    "            if rotacao not in primos:\n",
    "                break\n",
    "        \n",
    "        else:\n",
    "            r.add(primo)\n",
    "    return len(r)"
   ]
  },
  {
   "cell_type": "markdown",
   "metadata": {},
   "source": [
    "Resultados"
   ]
  },
  {
   "cell_type": "code",
   "execution_count": 16,
   "metadata": {},
   "outputs": [
    {
     "data": {
      "text/plain": [
       "55"
      ]
     },
     "execution_count": 16,
     "metadata": {},
     "output_type": "execute_result"
    }
   ],
   "source": [
    "problem35()"
   ]
  },
  {
   "cell_type": "markdown",
   "metadata": {},
   "source": [
    "### **Project Euler Problema 21**\n",
    "Um número é considerado perfeito quando a soma de seus divisores é igual ao próprio número.\n",
    "\n",
    "Curiosamente, a soma dos divisores do número 220 é 284 e a soma dos divisores do número 284 é 220, <br>\n",
    "formando um par, por isso esses números são chamados de números amigos.\n",
    "\n",
    "> Divisores de 220 → 1, 2, 4, 5, 10, 11, 20, 22, 44, 55 e 110 = 284\n",
    "\n",
    "> Divisores de 284 → 1, 2, 4, 71 e 142 = 220\n",
    "\n",
    "Encontre a soma de todos os número amigos menores 10000.\n",
    "\n",
    "**BÔNUS:** faça com que o usuário possa escolher o limite superior desse intervalo.\n"
   ]
  },
  {
   "cell_type": "code",
   "execution_count": 17,
   "metadata": {},
   "outputs": [],
   "source": [
    "def divisores(n):\n",
    "    for i in range(1, n//2 +1):\n",
    "        if n%i == 0:\n",
    "            yield i\n",
    "\n",
    "def problem50(limite=10**4):\n",
    "    n_amigos = set()\n",
    "    for i in range(2, limite):\n",
    "        if i not in n_amigos:\n",
    "            j = sum(divisores(i))\n",
    "            if i == sum(divisores(j)) and i != j:\n",
    "                n_amigos.add(i)\n",
    "                n_amigos.add(j)\n",
    "\n",
    "    return sum(n_amigos), n_amigos"
   ]
  },
  {
   "cell_type": "markdown",
   "metadata": {},
   "source": [
    "Resultados"
   ]
  },
  {
   "cell_type": "code",
   "execution_count": 18,
   "metadata": {},
   "outputs": [
    {
     "data": {
      "text/plain": [
       "(31626, {220, 284, 1184, 1210, 2620, 2924, 5020, 5564, 6232, 6368})"
      ]
     },
     "execution_count": 18,
     "metadata": {},
     "output_type": "execute_result"
    }
   ],
   "source": [
    "problem50()"
   ]
  },
  {
   "cell_type": "markdown",
   "metadata": {},
   "source": [
    "### Criptografia Assíncrona\n",
    "Usando nossos conhecimentos sobre Números Primos, MDC, Divisão Euclidiana e a Operação Módulo, <br>\n",
    "desenvolveremos um algoritmo para gerar um par de chaves, e seguidamente, encriptar e descriptar mensagens."
   ]
  },
  {
   "cell_type": "code",
   "execution_count": 37,
   "metadata": {},
   "outputs": [],
   "source": [
    "import sympy\n",
    "import random\n",
    "\n",
    "def inverso_multiplicativo_modular(e, phi):\n",
    "    for d in range(3, phi):\n",
    "        if (d*e) % phi == 1:\n",
    "            return d\n",
    "\n",
    "def gerador_de_chaves(limite):\n",
    "    p,q = sympy.randprime(0,limite),sympy.randprime(0,limite)\n",
    "\n",
    "    while p == q:\n",
    "        q = sympy.randprime(0,limite)\n",
    "\n",
    "    n = p * q\n",
    "    phi = (p-1) * (q-1)\n",
    "\n",
    "    chave_publica = random.randint(3,phi)\n",
    "\n",
    "    while mdc(chave_publica, phi) != 1:\n",
    "        chave_publica = random.randint(3,phi)\n",
    "\n",
    "    chave_privada = inverso_multiplicativo_modular(chave_publica, phi)\n",
    "\n",
    "    return n, chave_publica, chave_privada\n",
    "\n",
    "def encriptador(mensagem, chave_publica, n):\n",
    "    mensagem_ascii = [ord(ch) for ch in mensagem]\n",
    "\n",
    "    cifra = [pow(ch, chave_publica, n) for ch in mensagem_ascii]\n",
    "\n",
    "    return cifra\n",
    "\n",
    "def desencriptador(cifra, chave_privada, n):\n",
    "    mensagem_ascii = [pow(ch, chave_privada, n) for ch in cifra]\n",
    "\n",
    "    mensagem = ''.join(chr(ch) for ch in mensagem_ascii)\n",
    "\n",
    "    return mensagem"
   ]
  },
  {
   "cell_type": "markdown",
   "metadata": {},
   "source": [
    "Resultados"
   ]
  },
  {
   "cell_type": "code",
   "execution_count": 41,
   "metadata": {},
   "outputs": [
    {
     "name": "stdout",
     "output_type": "stream",
     "text": [
      "n=16062481 chave_publica=6048911 chave_privada=15071855 \n"
     ]
    }
   ],
   "source": [
    "n, chave_publica, chave_privada = gerador_de_chaves(5000)\n",
    "print(f'{n=} {chave_publica=} {chave_privada=} ')"
   ]
  },
  {
   "cell_type": "code",
   "execution_count": 39,
   "metadata": {},
   "outputs": [
    {
     "data": {
      "text/plain": [
       "[194185, 307180, 26015, 761003, 776136, 112171, 215087, 675814, 526255, 229069]"
      ]
     },
     "execution_count": 39,
     "metadata": {},
     "output_type": "execute_result"
    }
   ],
   "source": [
    "cifra = encriptador('Ola mundo!', chave_publica, n)\n",
    "cifra"
   ]
  },
  {
   "cell_type": "code",
   "execution_count": 40,
   "metadata": {},
   "outputs": [
    {
     "data": {
      "text/plain": [
       "'Ola mundo!'"
      ]
     },
     "execution_count": 40,
     "metadata": {},
     "output_type": "execute_result"
    }
   ],
   "source": [
    "desencriptador(cifra, chave_privada, n)"
   ]
  }
 ],
 "metadata": {
  "kernelspec": {
   "display_name": "base",
   "language": "python",
   "name": "python3"
  },
  "language_info": {
   "codemirror_mode": {
    "name": "ipython",
    "version": 3
   },
   "file_extension": ".py",
   "mimetype": "text/x-python",
   "name": "python",
   "nbconvert_exporter": "python",
   "pygments_lexer": "ipython3",
   "version": "3.11.3"
  }
 },
 "nbformat": 4,
 "nbformat_minor": 2
}
