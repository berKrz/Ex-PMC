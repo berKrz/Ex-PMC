{
 "cells": [
  {
   "cell_type": "markdown",
   "metadata": {},
   "source": [
    "# Recursão e Relações de Recorrência"
   ]
  },
  {
   "cell_type": "markdown",
   "metadata": {},
   "source": [
    "## 1 - Recursão"
   ]
  },
  {
   "cell_type": "markdown",
   "metadata": {},
   "source": [
    "### 1.1 - Sequência de Fibonacci"
   ]
  },
  {
   "cell_type": "code",
   "execution_count": 2,
   "metadata": {},
   "outputs": [],
   "source": []
  },
  {
   "cell_type": "markdown",
   "metadata": {},
   "source": [
    "Resultados"
   ]
  },
  {
   "cell_type": "code",
   "execution_count": 2,
   "metadata": {},
   "outputs": [
    {
     "name": "stdout",
     "output_type": "stream",
     "text": [
      "55\n",
      "F10 = 1 1 2 3 5 8 13 21 34\n"
     ]
    }
   ],
   "source": [
    "print(n_Fibonacci(10))\n",
    "print_Fibonacci(10)"
   ]
  },
  {
   "cell_type": "code",
   "execution_count": 5,
   "metadata": {},
   "outputs": [
    {
     "data": {
      "text/plain": [
       "[1, 1, 2, 3, 5, 8, 13, 21, 34, 55]"
      ]
     },
     "execution_count": 5,
     "metadata": {},
     "output_type": "execute_result"
    }
   ],
   "source": [
    "f = gerador_Fibonacci()\n",
    "[next(f) for i in range(10)]"
   ]
  },
  {
   "cell_type": "markdown",
   "metadata": {},
   "source": [
    "### 1.2 - Fatorial"
   ]
  },
  {
   "cell_type": "code",
   "execution_count": 3,
   "metadata": {},
   "outputs": [],
   "source": []
  },
  {
   "cell_type": "markdown",
   "metadata": {},
   "source": [
    "Resultados"
   ]
  },
  {
   "cell_type": "code",
   "execution_count": 4,
   "metadata": {},
   "outputs": [
    {
     "data": {
      "text/plain": [
       "120"
      ]
     },
     "execution_count": 4,
     "metadata": {},
     "output_type": "execute_result"
    }
   ],
   "source": [
    "fatorial(5)"
   ]
  },
  {
   "cell_type": "markdown",
   "metadata": {},
   "source": [
    "### 1.3 - Torre de Hanói"
   ]
  },
  {
   "cell_type": "code",
   "execution_count": 5,
   "metadata": {},
   "outputs": [],
   "source": []
  },
  {
   "cell_type": "markdown",
   "metadata": {},
   "source": [
    "Resultados"
   ]
  },
  {
   "cell_type": "code",
   "execution_count": 6,
   "metadata": {},
   "outputs": [
    {
     "name": "stdout",
     "output_type": "stream",
     "text": [
      "Disco 1 movido do pino A para o pino B\n",
      "Disco 2 movido do pino A para o pino C\n",
      "Disco 1 movido do pino B para o pino C\n",
      "Disco 3 movido do pino A para o pino B\n",
      "Disco 1 movido do pino C para o pino A\n",
      "Disco 2 movido do pino C para o pino B\n",
      "Disco 1 movido do pino A para o pino B\n"
     ]
    }
   ],
   "source": [
    "TdH(3, 'A', 'B', 'C')"
   ]
  },
  {
   "cell_type": "markdown",
   "metadata": {},
   "source": [
    "### 1.3 - Busca Binária"
   ]
  },
  {
   "cell_type": "code",
   "execution_count": 7,
   "metadata": {},
   "outputs": [],
   "source": []
  },
  {
   "cell_type": "markdown",
   "metadata": {},
   "source": [
    "Resultados"
   ]
  },
  {
   "cell_type": "code",
   "execution_count": 8,
   "metadata": {},
   "outputs": [
    {
     "name": "stdout",
     "output_type": "stream",
     "text": [
      "O elemento 10 foi encontrado na posição 3\n",
      "O elemento 5 não foi encontrado!\n"
     ]
    },
    {
     "data": {
      "text/plain": [
       "-1"
      ]
     },
     "execution_count": 8,
     "metadata": {},
     "output_type": "execute_result"
    }
   ],
   "source": [
    "lista = [2, 3, 4, 10, 40, 100]\n",
    "busca_binaria(lista, 10, 0, len(lista)-1)\n",
    "busca_binaria(lista, 5, 0, len(lista)-1)"
   ]
  },
  {
   "cell_type": "markdown",
   "metadata": {},
   "source": [
    "## 2 - Relações de Recorrência"
   ]
  },
  {
   "cell_type": "markdown",
   "metadata": {},
   "source": [
    "### 2.1 - Números Triangulares"
   ]
  },
  {
   "cell_type": "code",
   "execution_count": 9,
   "metadata": {},
   "outputs": [],
   "source": []
  },
  {
   "cell_type": "markdown",
   "metadata": {},
   "source": [
    "Resultados"
   ]
  },
  {
   "cell_type": "code",
   "execution_count": 10,
   "metadata": {},
   "outputs": [
    {
     "name": "stdout",
     "output_type": "stream",
     "text": [
      "28\n",
      "True\n",
      "False\n"
     ]
    }
   ],
   "source": [
    "print(n_triangular(7))\n",
    "print(check_triangular(21))\n",
    "print(check_triangular(20))"
   ]
  },
  {
   "cell_type": "markdown",
   "metadata": {},
   "source": [
    "## 3 - Exercícios"
   ]
  },
  {
   "cell_type": "markdown",
   "metadata": {},
   "source": [
    "Elabore um algoritmo que imprima o triângulo correspondente ao enésimo número triangular."
   ]
  },
  {
   "cell_type": "code",
   "execution_count": 11,
   "metadata": {},
   "outputs": [],
   "source": []
  },
  {
   "cell_type": "markdown",
   "metadata": {},
   "source": [
    "Resultados"
   ]
  },
  {
   "cell_type": "code",
   "execution_count": 12,
   "metadata": {},
   "outputs": [
    {
     "name": "stdout",
     "output_type": "stream",
     "text": [
      "                                                 *                                                  \n",
      "                                               *   *                                                \n",
      "                                             *   *   *                                              \n",
      "                                           *   *   *   *                                            \n",
      "                                         *   *   *   *   *                                          \n",
      "                                       *   *   *   *   *   *                                        \n",
      "                                     *   *   *   *   *   *   *                                      \n",
      "                                   *   *   *   *   *   *   *   *                                    \n",
      "                                 *   *   *   *   *   *   *   *   *                                  \n",
      "                               *   *   *   *   *   *   *   *   *   *                                \n",
      "                             *   *   *   *   *   *   *   *   *   *   *                              \n"
     ]
    }
   ],
   "source": [
    "print_n_triangular(11)"
   ]
  },
  {
   "cell_type": "markdown",
   "metadata": {},
   "source": [
    "### **Project Euler Problema 12**\n",
    "Observando os números triangulares, percebe-se que T7 = 28 é o primeiro número triangular a ter pelo menos 5 divisores.\n",
    "<br>\n",
    "<br>\n",
    "Desenvolva um algoritmo capaz de descobrir qual o primeiro número triangular a ter pelo menos 500 divisores.\n",
    "<br>\n",
    "<br>\n",
    "\n",
    "**BÔNUS:** faça com que seu algoritmo seja capaz de calcular o primeiro número triangular a ter pelo menos N divisores.\n"
   ]
  },
  {
   "cell_type": "code",
   "execution_count": 13,
   "metadata": {},
   "outputs": [],
   "source": []
  },
  {
   "cell_type": "markdown",
   "metadata": {},
   "source": [
    "Resultados"
   ]
  },
  {
   "cell_type": "code",
   "execution_count": 14,
   "metadata": {},
   "outputs": [
    {
     "name": "stdout",
     "output_type": "stream",
     "text": [
      "76588876 é o primeiro número triangular a ter 500 divisores\n"
     ]
    },
    {
     "data": {
      "text/plain": [
       "76576500"
      ]
     },
     "execution_count": 14,
     "metadata": {},
     "output_type": "execute_result"
    }
   ],
   "source": [
    "problem12(500)"
   ]
  },
  {
   "cell_type": "markdown",
   "metadata": {},
   "source": [
    "### **Project Euler Problema 42**\n",
    "Quando convertemos cada uma das letras de uma palavra para o número correspondente à sua posição alfabética e somamos esses valores, obtemos o \"valor\" de uma palavra.\n",
    "<br>\n",
    "<br>\n",
    "Por exemplo, a palavra FÚRIA é 6 + 21 + 18 + 9 + 1 = 55 = T10, consideramos ela, portanto uma \"palavra triangular\".\n",
    "<br>\n",
    "<br>\n",
    "Elabore um algoritmo que leia o arquivo palavras.txt e retorne quantas dessas palavras são \"palavras triangulares\".\n",
    "\n",
    "**BÔNUS:** retorne também uma lista com essas palavras.\n"
   ]
  },
  {
   "cell_type": "code",
   "execution_count": 15,
   "metadata": {},
   "outputs": [],
   "source": []
  },
  {
   "cell_type": "markdown",
   "metadata": {},
   "source": [
    "Resultados"
   ]
  },
  {
   "cell_type": "code",
   "execution_count": 16,
   "metadata": {},
   "outputs": [
    {
     "data": {
      "text/plain": [
       "(20,\n",
       " array(['VIDA', 'AMIGO', 'CARRO', 'COMIDA', 'ENTÃO', 'CONFIANÇA', 'PAIXÃO',\n",
       "        'MÚSICA', 'CHUVA', 'PRAIA', 'ESCOLA', 'COMPRA', 'BLOG', 'INTERNET',\n",
       "        'RESPONSABILIDADE', 'LEIS', 'FIM', 'ATENDIMENTO', 'TÓPICO', 'PAIS'],\n",
       "       dtype='<U16'))"
      ]
     },
     "execution_count": 16,
     "metadata": {},
     "output_type": "execute_result"
    }
   ],
   "source": [
    "problem42()"
   ]
  },
  {
   "cell_type": "markdown",
   "metadata": {},
   "source": [
    "### **Project Euler Problema 25**\n",
    "\n",
    "Usando recursão, crie um algoritmo capaz de descobrir o primeiro número da Sequência de Fibonacci com 1000 dígitos.\n",
    "<br>\n",
    "<br>\n",
    "**BÔNUS:** retorne também qual é esse número.\n",
    "<br>\n",
    "<br>\n",
    "**BÔNUS:** faça com que o usuário possa escolher o número de dígitos que deseja buscar."
   ]
  },
  {
   "cell_type": "code",
   "execution_count": 44,
   "metadata": {},
   "outputs": [],
   "source": []
  },
  {
   "cell_type": "code",
   "execution_count": 45,
   "metadata": {},
   "outputs": [
    {
     "name": "stdout",
     "output_type": "stream",
     "text": [
      "O F4782 tem 1000 digitos\n"
     ]
    }
   ],
   "source": [
    "problem25()"
   ]
  }
 ],
 "metadata": {
  "kernelspec": {
   "display_name": "base",
   "language": "python",
   "name": "python3"
  },
  "language_info": {
   "codemirror_mode": {
    "name": "ipython",
    "version": 3
   },
   "file_extension": ".py",
   "mimetype": "text/x-python",
   "name": "python",
   "nbconvert_exporter": "python",
   "pygments_lexer": "ipython3",
   "version": "3.11.3"
  }
 },
 "nbformat": 4,
 "nbformat_minor": 2
}
