{
 "cells": [
  {
   "cell_type": "markdown",
   "metadata": {},
   "source": [
    "# Teoria dos Números"
   ]
  },
  {
   "cell_type": "markdown",
   "metadata": {},
   "source": [
    "## 1 - MDC"
   ]
  },
  {
   "cell_type": "code",
   "execution_count": 1,
   "metadata": {},
   "outputs": [],
   "source": []
  },
  {
   "cell_type": "markdown",
   "metadata": {},
   "source": [
    "Resultados"
   ]
  },
  {
   "cell_type": "code",
   "execution_count": 2,
   "metadata": {},
   "outputs": [
    {
     "name": "stdout",
     "output_type": "stream",
     "text": [
      "10\n",
      "10\n",
      "15\n",
      "4\n"
     ]
    }
   ],
   "source": [
    "print(mdc(50,20))\n",
    "print(mdc_recursivo(50,20))\n",
    "print(mdc_args(30,60,75))\n",
    "\n",
    "import math\n",
    "print(math.gcd(16,100,24))"
   ]
  },
  {
   "cell_type": "markdown",
   "metadata": {},
   "source": [
    "## 2 - MMC"
   ]
  },
  {
   "cell_type": "code",
   "execution_count": 3,
   "metadata": {},
   "outputs": [],
   "source": []
  },
  {
   "cell_type": "markdown",
   "metadata": {},
   "source": [
    "Resultados"
   ]
  },
  {
   "cell_type": "code",
   "execution_count": 4,
   "metadata": {},
   "outputs": [
    {
     "name": "stdout",
     "output_type": "stream",
     "text": [
      "100\n",
      "100\n",
      "300\n",
      "1200\n"
     ]
    }
   ],
   "source": [
    "print(mmc_simples(50,20))\n",
    "print(mmc(50,20))\n",
    "print(mmc_args(30,60,75))\n",
    "\n",
    "import math\n",
    "print(math.lcm(16,100,24))"
   ]
  },
  {
   "cell_type": "markdown",
   "metadata": {},
   "source": [
    "## 3 - Números primos"
   ]
  },
  {
   "cell_type": "code",
   "execution_count": 5,
   "metadata": {},
   "outputs": [],
   "source": []
  },
  {
   "cell_type": "markdown",
   "metadata": {},
   "source": [
    "Resultados"
   ]
  },
  {
   "cell_type": "code",
   "execution_count": 6,
   "metadata": {},
   "outputs": [
    {
     "name": "stdout",
     "output_type": "stream",
     "text": [
      "False\n",
      "True\n"
     ]
    }
   ],
   "source": [
    "print(check_primo(6))\n",
    "print(check_primo(11))"
   ]
  },
  {
   "cell_type": "markdown",
   "metadata": {},
   "source": [
    "## 3 - Números perfeitos"
   ]
  },
  {
   "cell_type": "code",
   "execution_count": 7,
   "metadata": {},
   "outputs": [],
   "source": []
  },
  {
   "cell_type": "markdown",
   "metadata": {},
   "source": [
    "Resultados"
   ]
  },
  {
   "cell_type": "code",
   "execution_count": 8,
   "metadata": {},
   "outputs": [
    {
     "name": "stdout",
     "output_type": "stream",
     "text": [
      "True\n",
      "False\n"
     ]
    }
   ],
   "source": [
    "print(check_perfeito(6))\n",
    "print(check_perfeito(11))"
   ]
  },
  {
   "cell_type": "markdown",
   "metadata": {},
   "source": [
    "## 3 - Cifras"
   ]
  },
  {
   "cell_type": "code",
   "execution_count": 9,
   "metadata": {},
   "outputs": [],
   "source": []
  },
  {
   "cell_type": "markdown",
   "metadata": {},
   "source": [
    "Resultados"
   ]
  },
  {
   "cell_type": "code",
   "execution_count": 10,
   "metadata": {},
   "outputs": [
    {
     "name": "stdout",
     "output_type": "stream",
     "text": [
      "('rodcpxqgr', 3)\n",
      "('ola mundo', 3)\n",
      "('Rod#pxqgr', 3)\n",
      "('Ola mundo', 3)\n"
     ]
    }
   ],
   "source": [
    "print(cifrador_de_cesar_simples('Ola mundo'))\n",
    "print(decifrador_de_cesar_simples('rodcpxqgr'))\n",
    "\n",
    "print(cifrador_de_cesar('Ola mundo'))\n",
    "print(decifrador_de_cesar('Rod#pxqgr'))"
   ]
  },
  {
   "cell_type": "markdown",
   "metadata": {},
   "source": [
    "## 4 - Problemas"
   ]
  },
  {
   "cell_type": "markdown",
   "metadata": {},
   "source": [
    "### **Project Euler Problema 5**\n",
    "O número 2520 é o menor número divisível por todos os números entre 1 e 10.\n",
    "\n",
    "Qual o menor número que pode ser dividido, sem deixar resto, por todos os números entre 1 e 20\n",
    "<br>\n",
    "<br>\n",
    "\n",
    "**BÔNUS:** faça com que o usuário possa escolher o limite superior desse intervalo."
   ]
  },
  {
   "cell_type": "code",
   "execution_count": 11,
   "metadata": {},
   "outputs": [],
   "source": []
  },
  {
   "cell_type": "markdown",
   "metadata": {},
   "source": [
    "Resultados"
   ]
  },
  {
   "cell_type": "code",
   "execution_count": 12,
   "metadata": {},
   "outputs": [
    {
     "name": "stdout",
     "output_type": "stream",
     "text": [
      "232792560\n",
      "232792560\n"
     ]
    }
   ],
   "source": [
    "print(problem5())\n",
    "print(mmc_args(*range(1,21)))"
   ]
  },
  {
   "cell_type": "markdown",
   "metadata": {},
   "source": [
    "### **Project Euler Problema 10**\n",
    "Elabore um algoritmo que calcule a soma de todos os números primos menores que 2M.\n",
    "<br>\n",
    "<br>\n",
    "\n",
    "**BÔNUS:** faça com que o usuário possa escolher o limite superior desse intervalo.\n",
    "\n",
    "**BÔNUS:** faça com que o seu algoritmo implemente o Crivo de Eratóstenes."
   ]
  },
  {
   "cell_type": "code",
   "execution_count": 13,
   "metadata": {},
   "outputs": [],
   "source": []
  },
  {
   "cell_type": "markdown",
   "metadata": {},
   "source": [
    "Resultados"
   ]
  },
  {
   "cell_type": "code",
   "execution_count": 14,
   "metadata": {},
   "outputs": [
    {
     "data": {
      "text/plain": [
       "142913828922"
      ]
     },
     "execution_count": 14,
     "metadata": {},
     "output_type": "execute_result"
    }
   ],
   "source": [
    "problem10()"
   ]
  },
  {
   "cell_type": "markdown",
   "metadata": {},
   "source": [
    "### **Project Euler Problema 35**\n",
    "O número 197 pode ser considerado um \"número primo circular\", pois todas as rotações de seus dígitos são primos:\n",
    "\n",
    "> 197, 971 e 719 \n",
    "\n",
    "Exempo de números primos circulares abaixo de 100:\n",
    "\n",
    "> 2, 3, 5, 7, 11, 13, 17, 31, 37, 71, 73, 79 e 97\n",
    "<br>\n",
    "\n",
    "Quantos números primos circulares menores que 1M existem?"
   ]
  },
  {
   "cell_type": "code",
   "execution_count": 15,
   "metadata": {},
   "outputs": [],
   "source": []
  },
  {
   "cell_type": "markdown",
   "metadata": {},
   "source": [
    "Resultados"
   ]
  },
  {
   "cell_type": "code",
   "execution_count": 16,
   "metadata": {},
   "outputs": [
    {
     "data": {
      "text/plain": [
       "55"
      ]
     },
     "execution_count": 16,
     "metadata": {},
     "output_type": "execute_result"
    }
   ],
   "source": [
    "problem35()"
   ]
  },
  {
   "cell_type": "markdown",
   "metadata": {},
   "source": [
    "### **Project Euler Problema 21**\n",
    "Um número é considerado perfeito quando a soma de seus divisores é igual ao próprio número.\n",
    "\n",
    "Curiosamente, a soma dos divisores do número 220 é 284 e a soma dos divisores do número 284 é 220, <br>\n",
    "formando um par, por isso esses números são chamados de números amigos.\n",
    "\n",
    "> Divisores de 220 → 1, 2, 4, 5, 10, 11, 20, 22, 44, 55 e 110 = 284\n",
    "\n",
    "> Divisores de 284 → 1, 2, 4, 71 e 142 = 220\n",
    "\n",
    "Encontre a soma de todos os número amigos menores 10000.\n",
    "\n",
    "**BÔNUS:** faça com que o usuário possa escolher o limite superior desse intervalo.\n"
   ]
  },
  {
   "cell_type": "code",
   "execution_count": 17,
   "metadata": {},
   "outputs": [],
   "source": []
  },
  {
   "cell_type": "markdown",
   "metadata": {},
   "source": [
    "Resultados"
   ]
  },
  {
   "cell_type": "code",
   "execution_count": 18,
   "metadata": {},
   "outputs": [
    {
     "data": {
      "text/plain": [
       "(31626, {220, 284, 1184, 1210, 2620, 2924, 5020, 5564, 6232, 6368})"
      ]
     },
     "execution_count": 18,
     "metadata": {},
     "output_type": "execute_result"
    }
   ],
   "source": [
    "problem50()"
   ]
  },
  {
   "cell_type": "markdown",
   "metadata": {},
   "source": [
    "### Criptografia Assíncrona\n",
    "Usando nossos conhecimentos sobre Números Primos, MDC, Divisão Euclidiana e a Operação Módulo, <br>\n",
    "desenvolveremos um algoritmo para gerar um par de chaves, e seguidamente, encriptar e descriptar mensagens."
   ]
  },
  {
   "cell_type": "code",
   "execution_count": 37,
   "metadata": {},
   "outputs": [],
   "source": []
  },
  {
   "cell_type": "markdown",
   "metadata": {},
   "source": [
    "Resultados"
   ]
  },
  {
   "cell_type": "code",
   "execution_count": 41,
   "metadata": {},
   "outputs": [
    {
     "name": "stdout",
     "output_type": "stream",
     "text": [
      "n=16062481 chave_publica=6048911 chave_privada=15071855 \n"
     ]
    }
   ],
   "source": [
    "n, chave_publica, chave_privada = gerador_de_chaves(5000)\n",
    "print(f'{n=} {chave_publica=} {chave_privada=}')"
   ]
  },
  {
   "cell_type": "code",
   "execution_count": 39,
   "metadata": {},
   "outputs": [
    {
     "data": {
      "text/plain": [
       "[194185, 307180, 26015, 761003, 776136, 112171, 215087, 675814, 526255, 229069]"
      ]
     },
     "execution_count": 39,
     "metadata": {},
     "output_type": "execute_result"
    }
   ],
   "source": [
    "cifra = encriptador('Ola mundo!', chave_publica, n)\n",
    "cifra"
   ]
  },
  {
   "cell_type": "code",
   "execution_count": 40,
   "metadata": {},
   "outputs": [
    {
     "data": {
      "text/plain": [
       "'Ola mundo!'"
      ]
     },
     "execution_count": 40,
     "metadata": {},
     "output_type": "execute_result"
    }
   ],
   "source": [
    "desencriptador(cifra, chave_privada, n)"
   ]
  }
 ],
 "metadata": {
  "kernelspec": {
   "display_name": "base",
   "language": "python",
   "name": "python3"
  },
  "language_info": {
   "codemirror_mode": {
    "name": "ipython",
    "version": 3
   },
   "file_extension": ".py",
   "mimetype": "text/x-python",
   "name": "python",
   "nbconvert_exporter": "python",
   "pygments_lexer": "ipython3",
   "version": "3.11.3"
  }
 },
 "nbformat": 4,
 "nbformat_minor": 2
}
